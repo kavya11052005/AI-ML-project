{
 "cells": [
  {
   "cell_type": "code",
   "execution_count": 2,
   "id": "418f51e1-c263-44bf-aee0-23c700f4cf73",
   "metadata": {},
   "outputs": [
    {
     "name": "stdout",
     "output_type": "stream",
     "text": [
      "Requirement already satisfied: pandas in c:\\users\\hp5cd\\appdata\\local\\programs\\python\\python312\\lib\\site-packages (2.3.0)\n",
      "Requirement already satisfied: scikit-learn in c:\\users\\hp5cd\\appdata\\local\\programs\\python\\python312\\lib\\site-packages (1.6.1)\n",
      "Requirement already satisfied: numpy>=1.26.0 in c:\\users\\hp5cd\\appdata\\local\\programs\\python\\python312\\lib\\site-packages (from pandas) (2.1.3)\n",
      "Requirement already satisfied: python-dateutil>=2.8.2 in c:\\users\\hp5cd\\appdata\\local\\programs\\python\\python312\\lib\\site-packages (from pandas) (2.9.0.post0)\n",
      "Requirement already satisfied: pytz>=2020.1 in c:\\users\\hp5cd\\appdata\\local\\programs\\python\\python312\\lib\\site-packages (from pandas) (2025.2)\n",
      "Requirement already satisfied: tzdata>=2022.7 in c:\\users\\hp5cd\\appdata\\local\\programs\\python\\python312\\lib\\site-packages (from pandas) (2025.2)\n",
      "Requirement already satisfied: scipy>=1.6.0 in c:\\users\\hp5cd\\appdata\\local\\programs\\python\\python312\\lib\\site-packages (from scikit-learn) (1.15.3)\n",
      "Requirement already satisfied: joblib>=1.2.0 in c:\\users\\hp5cd\\appdata\\local\\programs\\python\\python312\\lib\\site-packages (from scikit-learn) (1.5.1)\n",
      "Requirement already satisfied: threadpoolctl>=3.1.0 in c:\\users\\hp5cd\\appdata\\local\\programs\\python\\python312\\lib\\site-packages (from scikit-learn) (3.6.0)\n",
      "Requirement already satisfied: six>=1.5 in c:\\users\\hp5cd\\appdata\\local\\programs\\python\\python312\\lib\\site-packages (from python-dateutil>=2.8.2->pandas) (1.17.0)\n"
     ]
    }
   ],
   "source": [
    "!pip install pandas scikit-learn"
   ]
  },
  {
   "cell_type": "code",
   "execution_count": 4,
   "id": "306a2457-93aa-4f06-a4ce-3e96c2b9f5c5",
   "metadata": {},
   "outputs": [
    {
     "name": "stdout",
     "output_type": "stream",
     "text": [
      "\n",
      "✅ Recommendations for 'Toy Story':\n",
      "- Oliver & Company\n",
      "- A Close Shave\n",
      "- The Aristocats\n",
      "- Pete's Dragon\n",
      "- Big Bully\n"
     ]
    }
   ],
   "source": [
    "import pandas as pd\n",
    "from sklearn.feature_extraction.text import CountVectorizer\n",
    "from sklearn.metrics.pairwise import cosine_similarity\n",
    "import ast\n",
    "\n",
    "file_path = \"C:/Users/hp5cd/Downloads/movies_metadata.csv\"\n",
    "df = pd.read_csv(file_path, low_memory=False)\n",
    "\n",
    "df = df[['title', 'genres']].dropna()\n",
    "\n",
    "def parse_genres(genres_str):\n",
    "    try:\n",
    "        genres_list = ast.literal_eval(genres_str)\n",
    "        return \" \".join([g['name'] for g in genres_list])\n",
    "    except:\n",
    "        return \"\"\n",
    "\n",
    "df['parsed_genres'] = df['genres'].apply(parse_genres)\n",
    "df = df[df['parsed_genres'].str.strip() != '']\n",
    "df = df.drop_duplicates(subset='title')\n",
    "df = df[df['title'].notnull()]\n",
    "\n",
    "df = df.head(1000)\n",
    "\n",
    "cv = CountVectorizer()\n",
    "genre_matrix = cv.fit_transform(df['parsed_genres'])\n",
    "\n",
    "similarity = cosine_similarity(genre_matrix)\n",
    "\n",
    "def recommend_movie(title, df, similarity_matrix):\n",
    "    if title not in df['title'].values:\n",
    "        return f\"⚠ Movie '{title}' not found in subset.\"\n",
    "\n",
    "    index = df[df['title'] == title].index[0]\n",
    "    scores = list(enumerate(similarity_matrix[index]))\n",
    "    sorted_scores = sorted(scores, key=lambda x: x[1], reverse=True)\n",
    "    top_movies = [df.iloc[i[0]]['title'] for i in sorted_scores[1:6]]\n",
    "    return top_movies\n",
    "\n",
    "example_title = \"Toy Story\"\n",
    "recommendations = recommend_movie(example_title, df, similarity)\n",
    "\n",
    "print(f\"\\n✅ Recommendations for '{example_title}':\")\n",
    "for rec in recommendations:\n",
    "    print(f\"- {rec}\")"
   ]
  }
 ],
 "metadata": {
  "kernelspec": {
   "display_name": "Python 3 (ipykernel)",
   "language": "python",
   "name": "python3"
  },
  "language_info": {
   "codemirror_mode": {
    "name": "ipython",
    "version": 3
   },
   "file_extension": ".py",
   "mimetype": "text/x-python",
   "name": "python",
   "nbconvert_exporter": "python",
   "pygments_lexer": "ipython3",
   "version": "3.12.4"
  }
 },
 "nbformat": 4,
 "nbformat_minor": 5
}
